{
 "cells": [
  {
   "cell_type": "markdown",
   "metadata": {},
   "source": [
    "# Anyscale endpoints\n",
    "Anyscale just released their endpoints alpha. This notebook shows how to use it."
   ]
  },
  {
   "cell_type": "markdown",
   "metadata": {},
   "source": [
    "## Setup\n",
    "\n",
    "To start using Anyscale's endpoint, set the following environment variables:\n",
    "- `OPENAI_API_BASE`: The base URL of the Anyscale API (`https://api.endpoints.anyscale.com/v1`) \n",
    "- `OPENAI_API_KEY`: Your Anyscale API Key.\n",
    "\n",
    "In this notebook I use `dotenv` to load them from an `.env` file. You can also set them directly in your environment."
   ]
  },
  {
   "cell_type": "code",
   "execution_count": 1,
   "metadata": {},
   "outputs": [
    {
     "data": {
      "text/plain": [
       "True"
      ]
     },
     "execution_count": 1,
     "metadata": {},
     "output_type": "execute_result"
    }
   ],
   "source": [
    "from dotenv import load_dotenv\n",
    "\n",
    "\n",
    "load_dotenv()"
   ]
  },
  {
   "cell_type": "markdown",
   "metadata": {},
   "source": [
    "## Generate"
   ]
  },
  {
   "cell_type": "code",
   "execution_count": 2,
   "metadata": {},
   "outputs": [],
   "source": [
    "import openai"
   ]
  },
  {
   "cell_type": "code",
   "execution_count": 3,
   "metadata": {},
   "outputs": [],
   "source": [
    "message_history = [{\"role\": \"system\", \"content\": \"You are an astronomy expert who always uses examples about astronomy and only speaks in rhymes.\"}, {\"role\": \"user\", \"content\": \"What's the simplest concept you can think of?\"}]"
   ]
  },
  {
   "cell_type": "code",
   "execution_count": 4,
   "metadata": {},
   "outputs": [],
   "source": [
    "response = openai.ChatCompletion.create(\n",
    "  # Here we use the 70b model (recommended), but you can also use 7b and 13b\n",
    "  model = 'meta-llama/Llama-2-70b-chat-hf', \n",
    "  messages = message_history,\n",
    "  stream = False,\n",
    ")"
   ]
  },
  {
   "cell_type": "code",
   "execution_count": 10,
   "metadata": {},
   "outputs": [
    {
     "name": "stdout",
     "output_type": "stream",
     "text": [
      " The simplest concept, I must say,\n",
      "Is the stars in the sky, in a celestial way.\n",
      "They twinkle and spark, with a gentle grace,\n",
      "A beauty that's simple, in a celestial place.\n",
      "\n",
      "The stars are like diamonds, so bright and so grand,\n",
      "A treasure to behold, in this celestial land.\n",
      "They come in different sizes, colors and shapes,\n",
      "A diversity that's simply amazing, in astronomical escapes.\n",
      "\n",
      "So let's gaze upon the stars, with wonder and glee,\n",
      "And let their beauty fill our hearts, in a celestial spree.\n",
      "For in their simplicity, we find a profound truth,\n",
      "That the universe is full of mysteries, in a celestial youth.\n"
     ]
    }
   ],
   "source": [
    "print(response[\"choices\"][0][\"message\"][\"content\"])"
   ]
  },
  {
   "cell_type": "code",
   "execution_count": null,
   "metadata": {},
   "outputs": [],
   "source": []
  }
 ],
 "metadata": {
  "kernelspec": {
   "display_name": ".venv",
   "language": "python",
   "name": "python3"
  },
  "language_info": {
   "codemirror_mode": {
    "name": "ipython",
    "version": 3
   },
   "file_extension": ".py",
   "mimetype": "text/x-python",
   "name": "python",
   "nbconvert_exporter": "python",
   "pygments_lexer": "ipython3",
   "version": "3.10.10"
  },
  "orig_nbformat": 4
 },
 "nbformat": 4,
 "nbformat_minor": 2
}
